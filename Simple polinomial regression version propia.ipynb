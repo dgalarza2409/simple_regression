{
 "cells": [
  {
   "cell_type": "markdown",
   "id": "42d5c854-62ca-4777-8ce9-7706da688124",
   "metadata": {},
   "source": [
    "# Ejercicio en el que, a partir de un seudo codigo, desarrollo totalmente solo, un modelo ML\n",
    "## Pasos\n",
    "- Defir el problema a resolver\n",
    "- Importar librerias requeridas\n",
    "- Obtener el dataset para entrenar y probar el modelo\n",
    "- Realizar el análisis exploratorio de los datos\n",
    "- Definir si se requiere una ingenieria de atributos o variables (Feature engineering)\n",
    "- Crear , entrenar y probar modelo\n",
    "- Evaluar modelo\n",
    "- Validación con Cross Validation"
   ]
  },
  {
   "cell_type": "markdown",
   "id": "cfd23413-2f7e-4c46-bcb2-aae627d8a35c",
   "metadata": {},
   "source": [
    "### Problema: Crear un modelo que pueda predecir valores a partir de una sola variable numérica independiente\n",
    " - Crear un data set numérico con cierto ruido que se ajuste a una distribución polinómica y verificar gráficamente\n",
    " - Probar comportamiento con un dataset de prueba\n",
    " - El método de evaluación sera MSE, R2_Score. Confirmación con Cross_Validation"
   ]
  },
  {
   "cell_type": "code",
   "execution_count": null,
   "id": "e222d810-3319-4a82-8f05-1995085ae54c",
   "metadata": {},
   "outputs": [],
   "source": [
    "import pandas as pd\n",
    "import matplotlib.pyplot as plt\n",
    "import numpy as np\n",
    "from sklearn.model_selection import train_test_split\n",
    "from sklearn.preprocessing import PolynomialFeatures\n",
    "from sklearn.linear_model import LinearRegression\n",
    "from sklearn.metrics import mean_squared_error, r2_score\n",
    "from sklearn.model_selection import cross_val_score, KFold"
   ]
  },
  {
   "cell_type": "code",
   "execution_count": 73,
   "id": "aa7c3446-13ab-4f13-94fb-fe7656cff6b7",
   "metadata": {},
   "outputs": [],
   "source": [
    "X = np.random.rand(500,1)*10 # un solo atributo (Feature), 500 datapoints"
   ]
  },
  {
   "cell_type": "code",
   "execution_count": 74,
   "id": "f20d442a-4592-4608-acff-7739b6275223",
   "metadata": {},
   "outputs": [
    {
     "name": "stdout",
     "output_type": "stream",
     "text": [
      "[[8.96410367]\n",
      " [0.06735935]\n",
      " [8.63392926]\n",
      " [9.73706774]\n",
      " [6.83006651]]\n"
     ]
    }
   ],
   "source": [
    "print(X[:5])\n"
   ]
  },
  {
   "cell_type": "code",
   "execution_count": 75,
   "id": "1f7df811-8f6d-4855-8b0a-0c7f0a23c034",
   "metadata": {},
   "outputs": [],
   "source": [
    "y = 3 + 0.5*X**2 + np.random.randn(500,1)*3  #Funcion polinómica con ruido para simular no linearidad"
   ]
  },
  {
   "cell_type": "code",
   "execution_count": 76,
   "id": "063b9920-ab5c-41fd-81e3-5e7cbff7d004",
   "metadata": {},
   "outputs": [
    {
     "data": {
      "text/plain": [
       "<matplotlib.collections.PathCollection at 0x1ed337a87d0>"
      ]
     },
     "execution_count": 76,
     "metadata": {},
     "output_type": "execute_result"
    },
    {
     "data": {
      "image/png": "[encoded data removed]",
      "text/plain": [
       "<Figure size 640x480 with 1 Axes>"
      ]
     },
     "metadata": {},
     "output_type": "display_data"
    }
   ],
   "source": [
    "plt.scatter(X,y)"
   ]
  },
  {
   "cell_type": "code",
   "execution_count": 77,
   "id": "dcd87891-0ec6-4a8a-842e-37c3b28405ec",
   "metadata": {},
   "outputs": [],
   "source": [
    "X_df = pd.DataFrame(X, columns=[\"feature\"])"
   ]
  },
  {
   "cell_type": "code",
   "execution_count": 78,
   "id": "5d9d652b-1157-4961-8c97-016564919d33",
   "metadata": {},
   "outputs": [
    {
     "data": {
      "text/html": [
       "<div>\n",
       "<style scoped>\n",
       "    .dataframe tbody tr th:only-of-type {\n",
       "        vertical-align: middle;\n",
       "    }\n",
       "\n",
       "    .dataframe tbody tr th {\n",
       "        vertical-align: top;\n",
       "    }\n",
       "\n",
       "    .dataframe thead th {\n",
       "        text-align: right;\n",
       "    }\n",
       "</style>\n",
       "<table border=\"1\" class=\"dataframe\">\n",
       "  <thead>\n",
       "    <tr style=\"text-align: right;\">\n",
       "      <th></th>\n",
       "      <th>feature</th>\n",
       "    </tr>\n",
       "  </thead>\n",
       "  <tbody>\n",
       "    <tr>\n",
       "      <th>0</th>\n",
       "      <td>8.964104</td>\n",
       "    </tr>\n",
       "    <tr>\n",
       "      <th>1</th>\n",
       "      <td>0.067359</td>\n",
       "    </tr>\n",
       "    <tr>\n",
       "      <th>2</th>\n",
       "      <td>8.633929</td>\n",
       "    </tr>\n",
       "    <tr>\n",
       "      <th>3</th>\n",
       "      <td>9.737068</td>\n",
       "    </tr>\n",
       "    <tr>\n",
       "      <th>4</th>\n",
       "      <td>6.830067</td>\n",
       "    </tr>\n",
       "  </tbody>\n",
       "</table>\n",
       "</div>"
      ],
      "text/plain": [
       "    feature\n",
       "0  8.964104\n",
       "1  0.067359\n",
       "2  8.633929\n",
       "3  9.737068\n",
       "4  6.830067"
      ]
     },
     "execution_count": 78,
     "metadata": {},
     "output_type": "execute_result"
    }
   ],
   "source": [
    "X_df.head()"
   ]
  },
  {
   "cell_type": "code",
   "execution_count": 79,
   "id": "3715ee67-5327-4a9e-ba4d-30e86ce630f3",
   "metadata": {},
   "outputs": [
    {
     "data": {
      "text/html": [
       "<div>\n",
       "<style scoped>\n",
       "    .dataframe tbody tr th:only-of-type {\n",
       "        vertical-align: middle;\n",
       "    }\n",
       "\n",
       "    .dataframe tbody tr th {\n",
       "        vertical-align: top;\n",
       "    }\n",
       "\n",
       "    .dataframe thead th {\n",
       "        text-align: right;\n",
       "    }\n",
       "</style>\n",
       "<table border=\"1\" class=\"dataframe\">\n",
       "  <thead>\n",
       "    <tr style=\"text-align: right;\">\n",
       "      <th></th>\n",
       "      <th>target</th>\n",
       "    </tr>\n",
       "  </thead>\n",
       "  <tbody>\n",
       "    <tr>\n",
       "      <th>0</th>\n",
       "      <td>39.188829</td>\n",
       "    </tr>\n",
       "    <tr>\n",
       "      <th>1</th>\n",
       "      <td>5.740261</td>\n",
       "    </tr>\n",
       "    <tr>\n",
       "      <th>2</th>\n",
       "      <td>32.163775</td>\n",
       "    </tr>\n",
       "    <tr>\n",
       "      <th>3</th>\n",
       "      <td>54.658576</td>\n",
       "    </tr>\n",
       "    <tr>\n",
       "      <th>4</th>\n",
       "      <td>26.689062</td>\n",
       "    </tr>\n",
       "  </tbody>\n",
       "</table>\n",
       "</div>"
      ],
      "text/plain": [
       "      target\n",
       "0  39.188829\n",
       "1   5.740261\n",
       "2  32.163775\n",
       "3  54.658576\n",
       "4  26.689062"
      ]
     },
     "execution_count": 79,
     "metadata": {},
     "output_type": "execute_result"
    }
   ],
   "source": [
    "y_df = pd.DataFrame(y, columns=[\"target\"])\n",
    "y_df.head()\n",
    "                "
   ]
  },
  {
   "cell_type": "code",
   "execution_count": 80,
   "id": "d1d34f7e-f30d-4f18-be76-746cce759c42",
   "metadata": {},
   "outputs": [],
   "source": [
    "df=pd.concat([X_df, y_df], axis=1)"
   ]
  },
  {
   "cell_type": "code",
   "execution_count": 81,
   "id": "6f6a020d-f185-4a55-baa8-7e2f3c688360",
   "metadata": {},
   "outputs": [
    {
     "data": {
      "text/html": [
       "<div>\n",
       "<style scoped>\n",
       "    .dataframe tbody tr th:only-of-type {\n",
       "        vertical-align: middle;\n",
       "    }\n",
       "\n",
       "    .dataframe tbody tr th {\n",
       "        vertical-align: top;\n",
       "    }\n",
       "\n",
       "    .dataframe thead th {\n",
       "        text-align: right;\n",
       "    }\n",
       "</style>\n",
       "<table border=\"1\" class=\"dataframe\">\n",
       "  <thead>\n",
       "    <tr style=\"text-align: right;\">\n",
       "      <th></th>\n",
       "      <th>feature</th>\n",
       "      <th>target</th>\n",
       "    </tr>\n",
       "  </thead>\n",
       "  <tbody>\n",
       "    <tr>\n",
       "      <th>0</th>\n",
       "      <td>8.964104</td>\n",
       "      <td>39.188829</td>\n",
       "    </tr>\n",
       "    <tr>\n",
       "      <th>1</th>\n",
       "      <td>0.067359</td>\n",
       "      <td>5.740261</td>\n",
       "    </tr>\n",
       "    <tr>\n",
       "      <th>2</th>\n",
       "      <td>8.633929</td>\n",
       "      <td>32.163775</td>\n",
       "    </tr>\n",
       "    <tr>\n",
       "      <th>3</th>\n",
       "      <td>9.737068</td>\n",
       "      <td>54.658576</td>\n",
       "    </tr>\n",
       "    <tr>\n",
       "      <th>4</th>\n",
       "      <td>6.830067</td>\n",
       "      <td>26.689062</td>\n",
       "    </tr>\n",
       "  </tbody>\n",
       "</table>\n",
       "</div>"
      ],
      "text/plain": [
       "    feature     target\n",
       "0  8.964104  39.188829\n",
       "1  0.067359   5.740261\n",
       "2  8.633929  32.163775\n",
       "3  9.737068  54.658576\n",
       "4  6.830067  26.689062"
      ]
     },
     "execution_count": 81,
     "metadata": {},
     "output_type": "execute_result"
    }
   ],
   "source": [
    "df.head()"
   ]
  },
  {
   "cell_type": "code",
   "execution_count": 82,
   "id": "611e4821-eb05-43dc-8d6f-0a01a0160039",
   "metadata": {},
   "outputs": [
    {
     "data": {
      "text/html": [
       "<div>\n",
       "<style scoped>\n",
       "    .dataframe tbody tr th:only-of-type {\n",
       "        vertical-align: middle;\n",
       "    }\n",
       "\n",
       "    .dataframe tbody tr th {\n",
       "        vertical-align: top;\n",
       "    }\n",
       "\n",
       "    .dataframe thead th {\n",
       "        text-align: right;\n",
       "    }\n",
       "</style>\n",
       "<table border=\"1\" class=\"dataframe\">\n",
       "  <thead>\n",
       "    <tr style=\"text-align: right;\">\n",
       "      <th></th>\n",
       "      <th>feature</th>\n",
       "      <th>target</th>\n",
       "    </tr>\n",
       "  </thead>\n",
       "  <tbody>\n",
       "    <tr>\n",
       "      <th>count</th>\n",
       "      <td>500.000000</td>\n",
       "      <td>500.000000</td>\n",
       "    </tr>\n",
       "    <tr>\n",
       "      <th>mean</th>\n",
       "      <td>4.735625</td>\n",
       "      <td>18.377865</td>\n",
       "    </tr>\n",
       "    <tr>\n",
       "      <th>std</th>\n",
       "      <td>2.890139</td>\n",
       "      <td>15.085427</td>\n",
       "    </tr>\n",
       "    <tr>\n",
       "      <th>min</th>\n",
       "      <td>0.067359</td>\n",
       "      <td>-6.567530</td>\n",
       "    </tr>\n",
       "    <tr>\n",
       "      <th>25%</th>\n",
       "      <td>2.034049</td>\n",
       "      <td>5.738052</td>\n",
       "    </tr>\n",
       "    <tr>\n",
       "      <th>50%</th>\n",
       "      <td>4.604438</td>\n",
       "      <td>14.268221</td>\n",
       "    </tr>\n",
       "    <tr>\n",
       "      <th>75%</th>\n",
       "      <td>7.162609</td>\n",
       "      <td>28.527570</td>\n",
       "    </tr>\n",
       "    <tr>\n",
       "      <th>max</th>\n",
       "      <td>9.977889</td>\n",
       "      <td>59.514877</td>\n",
       "    </tr>\n",
       "  </tbody>\n",
       "</table>\n",
       "</div>"
      ],
      "text/plain": [
       "          feature      target\n",
       "count  500.000000  500.000000\n",
       "mean     4.735625   18.377865\n",
       "std      2.890139   15.085427\n",
       "min      0.067359   -6.567530\n",
       "25%      2.034049    5.738052\n",
       "50%      4.604438   14.268221\n",
       "75%      7.162609   28.527570\n",
       "max      9.977889   59.514877"
      ]
     },
     "execution_count": 82,
     "metadata": {},
     "output_type": "execute_result"
    }
   ],
   "source": [
    "df.describe()"
   ]
  },
  {
   "cell_type": "code",
   "execution_count": 83,
   "id": "40394fcd-c2ba-49cc-ba16-0ea60b25a6ec",
   "metadata": {},
   "outputs": [
    {
     "name": "stdout",
     "output_type": "stream",
     "text": [
      "<class 'pandas.core.frame.DataFrame'>\n",
      "RangeIndex: 500 entries, 0 to 499\n",
      "Data columns (total 2 columns):\n",
      " #   Column   Non-Null Count  Dtype  \n",
      "---  ------   --------------  -----  \n",
      " 0   feature  500 non-null    float64\n",
      " 1   target   500 non-null    float64\n",
      "dtypes: float64(2)\n",
      "memory usage: 7.9 KB\n"
     ]
    }
   ],
   "source": [
    "df.info()"
   ]
  },
  {
   "cell_type": "code",
   "execution_count": 84,
   "id": "02473c36-0761-48e6-8c9b-c0f96a9c5fe1",
   "metadata": {},
   "outputs": [
    {
     "data": {
      "text/plain": [
       "(500, 2)"
      ]
     },
     "execution_count": 84,
     "metadata": {},
     "output_type": "execute_result"
    }
   ],
   "source": [
    "df.shape"
   ]
  },
  {
   "cell_type": "code",
   "execution_count": 85,
   "id": "a4dce8f3-343a-495b-aead-b44bc7172747",
   "metadata": {},
   "outputs": [
    {
     "data": {
      "text/plain": [
       "feature    0\n",
       "target     0\n",
       "dtype: int64"
      ]
     },
     "execution_count": 85,
     "metadata": {},
     "output_type": "execute_result"
    }
   ],
   "source": [
    "df.isnull().sum()"
   ]
  },
  {
   "cell_type": "code",
   "execution_count": 86,
   "id": "240538c6-7ee0-4ea8-860e-dd9986f50f39",
   "metadata": {},
   "outputs": [
    {
     "data": {
      "text/plain": [
       "<matplotlib.legend.Legend at 0x1ed34516950>"
      ]
     },
     "execution_count": 86,
     "metadata": {},
     "output_type": "execute_result"
    },
    {
     "data": {
      "image/png": "[encoded data removed]",
      "text/plain": [
       "<Figure size 640x480 with 1 Axes>"
      ]
     },
     "metadata": {},
     "output_type": "display_data"
    }
   ],
   "source": [
    "plt.scatter(df[\"feature\"], df[\"target\"])\n",
    "plt.xlabel(\"Feature\")\n",
    "plt.ylabel(\"Target\")\n",
    "plt.title(\"Confirmar relación lineal\")\n",
    "plt.legend(\"Datapoints\")"
   ]
  },
  {
   "cell_type": "code",
   "execution_count": 87,
   "id": "d8a3bc4a-8e77-4092-871b-25b7e110ffcb",
   "metadata": {},
   "outputs": [
    {
     "name": "stdout",
     "output_type": "stream",
     "text": [
      "Tamaño de los datos para entrenamiento (Features):  (400, 1)\n",
      "Tamaño de los datos para pruebas(Features):  (100, 1)\n",
      "Tamaño de los datos para entrenamiento (Target):  (400, 1)\n",
      "Tamaño de los datos para pruebas(Target):  (100, 1)\n"
     ]
    }
   ],
   "source": [
    "X_train, X_test, y_train, y_test =train_test_split(X, y, test_size=0.2, random_state=42)\n",
    "print(f\"Tamaño de los datos para entrenamiento (Features):  {X_train.shape}\")\n",
    "print(f\"Tamaño de los datos para pruebas(Features):  {X_test.shape}\")\n",
    "print(f\"Tamaño de los datos para entrenamiento (Target):  {y_train.shape}\")\n",
    "print(f\"Tamaño de los datos para pruebas(Target):  {y_test.shape}\")"
   ]
  },
  {
   "cell_type": "markdown",
   "id": "68ea169b-4738-4281-80cd-c4f6e7c356c2",
   "metadata": {},
   "source": [
    "### Características polinomiales: cuando se sospecha que la relación entre las variables dependientes e independientes no es lineal, las características polinomiales pueden ayudar a capturar esta no linealidad"
   ]
  },
  {
   "cell_type": "code",
   "execution_count": 88,
   "id": "922b9191-f19c-4370-832c-90bca6291aab",
   "metadata": {},
   "outputs": [
    {
     "name": "stdout",
     "output_type": "stream",
     "text": [
      "Original: (400, 1)\n",
      "Transformada: (400, 2)\n"
     ]
    }
   ],
   "source": [
    "# Crear un objeto PolynomialFeatures desde la libreria sklearn preprocessing\n",
    "poli = PolynomialFeatures(degree = 2, include_bias=False) #Degree 2 significa la potencia a la que hay que elevar X para capturar no linealidad\n",
    "\n",
    "# Tranformar los valores originales de X\n",
    "X_train_poli = poli.fit_transform(X_train)\n",
    "X_test_poli = poli.transform(X_test)\n",
    "\n",
    "print(f\"Original: {X_train.shape}\")\n",
    "print(f\"Transformada: {X_train_poli.shape}\")"
   ]
  },
  {
   "cell_type": "code",
   "execution_count": 89,
   "id": "2603ad3d-f042-4f40-8b06-777986d11403",
   "metadata": {},
   "outputs": [
    {
     "name": "stdout",
     "output_type": "stream",
     "text": [
      "[[ 1.68702928  2.8460678 ]\n",
      " [ 0.72955726  0.5322538 ]\n",
      " [ 1.41750389  2.00931728]\n",
      " [ 7.5125371  56.43821368]\n",
      " [ 3.07529428  9.4574349 ]]\n"
     ]
    }
   ],
   "source": [
    "print(X_train_poli[:5])"
   ]
  },
  {
   "cell_type": "markdown",
   "id": "c4c6694b-2096-43b5-aa17-5c7fe685b2cc",
   "metadata": {},
   "source": [
    "### Crear y entrenar el modelo con los valores de X transformados"
   ]
  },
  {
   "cell_type": "code",
   "execution_count": 90,
   "id": "7aeda9bd-6226-4708-9e31-22f8f2be8e0c",
   "metadata": {},
   "outputs": [],
   "source": [
    "# Crear el modelo de regression lineal\n",
    "modelo = LinearRegression() # Crear objeto\n"
   ]
  },
  {
   "cell_type": "code",
   "execution_count": 91,
   "id": "be08b434-480f-433c-8ecc-cbf87d3bb7e5",
   "metadata": {},
   "outputs": [
    {
     "data": {
      "text/html": [
       "<style>#sk-container-id-4 {color: black;}#sk-container-id-4 pre{padding: 0;}#sk-container-id-4 div.sk-toggleable {background-color: white;}#sk-container-id-4 label.sk-toggleable__label {cursor: pointer;display: block;width: 100%;margin-bottom: 0;padding: 0.3em;box-sizing: border-box;text-align: center;}#sk-container-id-4 label.sk-toggleable__label-arrow:before {content: \"▸\";float: left;margin-right: 0.25em;color: #696969;}#sk-container-id-4 label.sk-toggleable__label-arrow:hover:before {color: black;}#sk-container-id-4 div.sk-estimator:hover label.sk-toggleable__label-arrow:before {color: black;}#sk-container-id-4 div.sk-toggleable__content {max-height: 0;max-width: 0;overflow: hidden;text-align: left;background-color: #f0f8ff;}#sk-container-id-4 div.sk-toggleable__content pre {margin: 0.2em;color: black;border-radius: 0.25em;background-color: #f0f8ff;}#sk-container-id-4 input.sk-toggleable__control:checked~div.sk-toggleable__content {max-height: 200px;max-width: 100%;overflow: auto;}#sk-container-id-4 input.sk-toggleable__control:checked~label.sk-toggleable__label-arrow:before {content: \"▾\";}#sk-container-id-4 div.sk-estimator input.sk-toggleable__control:checked~label.sk-toggleable__label {background-color: #d4ebff;}#sk-container-id-4 div.sk-label input.sk-toggleable__control:checked~label.sk-toggleable__label {background-color: #d4ebff;}#sk-container-id-4 input.sk-hidden--visually {border: 0;clip: rect(1px 1px 1px 1px);clip: rect(1px, 1px, 1px, 1px);height: 1px;margin: -1px;overflow: hidden;padding: 0;position: absolute;width: 1px;}#sk-container-id-4 div.sk-estimator {font-family: monospace;background-color: #f0f8ff;border: 1px dotted black;border-radius: 0.25em;box-sizing: border-box;margin-bottom: 0.5em;}#sk-container-id-4 div.sk-estimator:hover {background-color: #d4ebff;}#sk-container-id-4 div.sk-parallel-item::after {content: \"\";width: 100%;border-bottom: 1px solid gray;flex-grow: 1;}#sk-container-id-4 div.sk-label:hover label.sk-toggleable__label {background-color: #d4ebff;}#sk-container-id-4 div.sk-serial::before {content: \"\";position: absolute;border-left: 1px solid gray;box-sizing: border-box;top: 0;bottom: 0;left: 50%;z-index: 0;}#sk-container-id-4 div.sk-serial {display: flex;flex-direction: column;align-items: center;background-color: white;padding-right: 0.2em;padding-left: 0.2em;position: relative;}#sk-container-id-4 div.sk-item {position: relative;z-index: 1;}#sk-container-id-4 div.sk-parallel {display: flex;align-items: stretch;justify-content: center;background-color: white;position: relative;}#sk-container-id-4 div.sk-item::before, #sk-container-id-4 div.sk-parallel-item::before {content: \"\";position: absolute;border-left: 1px solid gray;box-sizing: border-box;top: 0;bottom: 0;left: 50%;z-index: -1;}#sk-container-id-4 div.sk-parallel-item {display: flex;flex-direction: column;z-index: 1;position: relative;background-color: white;}#sk-container-id-4 div.sk-parallel-item:first-child::after {align-self: flex-end;width: 50%;}#sk-container-id-4 div.sk-parallel-item:last-child::after {align-self: flex-start;width: 50%;}#sk-container-id-4 div.sk-parallel-item:only-child::after {width: 0;}#sk-container-id-4 div.sk-dashed-wrapped {border: 1px dashed gray;margin: 0 0.4em 0.5em 0.4em;box-sizing: border-box;padding-bottom: 0.4em;background-color: white;}#sk-container-id-4 div.sk-label label {font-family: monospace;font-weight: bold;display: inline-block;line-height: 1.2em;}#sk-container-id-4 div.sk-label-container {text-align: center;}#sk-container-id-4 div.sk-container {/* jupyter's `normalize.less` sets `[hidden] { display: none; }` but bootstrap.min.css set `[hidden] { display: none !important; }` so we also need the `!important` here to be able to override the default hidden behavior on the sphinx rendered scikit-learn.org. See: https://github.com/scikit-learn/scikit-learn/issues/21755 */display: inline-block !important;position: relative;}#sk-container-id-4 div.sk-text-repr-fallback {display: none;}</style><div id=\"sk-container-id-4\" class=\"sk-top-container\"><div class=\"sk-text-repr-fallback\"><pre>LinearRegression()</pre><b>In a Jupyter environment, please rerun this cell to show the HTML representation or trust the notebook. <br />On GitHub, the HTML representation is unable to render, please try loading this page with nbviewer.org.</b></div><div class=\"sk-container\" hidden><div class=\"sk-item\"><div class=\"sk-estimator sk-toggleable\"><input class=\"sk-toggleable__control sk-hidden--visually\" id=\"sk-estimator-id-4\" type=\"checkbox\" checked><label for=\"sk-estimator-id-4\" class=\"sk-toggleable__label sk-toggleable__label-arrow\">LinearRegression</label><div class=\"sk-toggleable__content\"><pre>LinearRegression()</pre></div></div></div></div></div>"
      ],
      "text/plain": [
       "LinearRegression()"
      ]
     },
     "execution_count": 91,
     "metadata": {},
     "output_type": "execute_result"
    }
   ],
   "source": [
    "modelo.fit(X_train_poli, y_train) # entrenar modelo"
   ]
  },
  {
   "cell_type": "code",
   "execution_count": 92,
   "id": "14bcd1bd-c152-4a8c-931d-d1eb9fec1d0c",
   "metadata": {},
   "outputs": [],
   "source": [
    "# Probar modelo entrenado con el set de prueba\n",
    "y_pred = modelo.predict(X_test_poli)"
   ]
  },
  {
   "cell_type": "code",
   "execution_count": 93,
   "id": "cccf40ac-c380-4a88-972c-859934503f5c",
   "metadata": {},
   "outputs": [
    {
     "data": {
      "text/plain": [
       "(100, 1)"
      ]
     },
     "execution_count": 93,
     "metadata": {},
     "output_type": "execute_result"
    }
   ],
   "source": [
    "y_pred.shape"
   ]
  },
  {
   "cell_type": "code",
   "execution_count": 94,
   "id": "49d4570f-5d50-4f69-8641-716c0252aa9e",
   "metadata": {},
   "outputs": [
    {
     "name": "stdout",
     "output_type": "stream",
     "text": [
      "[[21.9288967 ]\n",
      " [ 3.91866669]\n",
      " [ 3.18124903]\n",
      " [10.86459293]\n",
      " [29.09724445]]\n"
     ]
    }
   ],
   "source": [
    "print(y_pred[:5])"
   ]
  },
  {
   "cell_type": "code",
   "execution_count": 95,
   "id": "f70a4c05-d9b4-4fab-9929-a96715a0c2ef",
   "metadata": {},
   "outputs": [
    {
     "name": "stdout",
     "output_type": "stream",
     "text": [
      "[[ 6.15120938 37.83737685]\n",
      " [ 1.27570008  1.6274107 ]\n",
      " [ 0.2835479   0.08039941]\n",
      " [ 3.95694947 15.65744914]\n",
      " [ 7.22349833 52.17892814]]\n"
     ]
    }
   ],
   "source": [
    "print(X_test_poli[:5])"
   ]
  },
  {
   "cell_type": "code",
   "execution_count": 96,
   "id": "ebfa40aa-2844-473b-b181-d49536a8f05d",
   "metadata": {},
   "outputs": [
    {
     "data": {
      "text/plain": [
       "Text(0.5, 1.0, 'Datos reales vs Predicciones')"
      ]
     },
     "execution_count": 96,
     "metadata": {},
     "output_type": "execute_result"
    },
    {
     "data": {
      "image/png": "[encoded data removed]",
      "text/plain": [
       "<Figure size 640x480 with 1 Axes>"
      ]
     },
     "metadata": {},
     "output_type": "display_data"
    }
   ],
   "source": [
    "plt.scatter(X_test[:50], y_test[:50], label=\"Datos reales\")\n",
    "plt.scatter(X_test[:50], y_pred[:50], color=\"red\", label=\"Predicciones\")\n",
    "plt.legend()\n",
    "plt.xlabel(\"FEATURE\")\n",
    "plt.ylabel(\"TARGET\")\n",
    "plt.title(\"Datos reales vs Predicciones\")\n"
   ]
  },
  {
   "cell_type": "code",
   "execution_count": 97,
   "id": "00a486eb-6db0-42a0-a41c-2ab421cee17d",
   "metadata": {},
   "outputs": [
    {
     "name": "stdout",
     "output_type": "stream",
     "text": [
      "coeficientes : [[-0.04087472  0.50288683]]\n",
      "intercept : [3.15240717]\n"
     ]
    }
   ],
   "source": [
    "print(f\"coeficientes : {modelo.coef_}\")\n",
    "print(f\"intercept : {modelo.intercept_}\")"
   ]
  },
  {
   "cell_type": "code",
   "execution_count": 98,
   "id": "24ec5e17-7550-469b-a959-d9b7be18da59",
   "metadata": {},
   "outputs": [],
   "source": [
    "z= 2.78505141 - 0.09686853*6.53389944 + 0.51436562*42.69184185 #Funcion polinómica a partir de coeficientes"
   ]
  },
  {
   "cell_type": "code",
   "execution_count": 99,
   "id": "316909b8-53c7-4a9f-8e99-e248088b9b97",
   "metadata": {},
   "outputs": [
    {
     "data": {
      "text/plain": [
       "24.111337878196576"
      ]
     },
     "execution_count": 99,
     "metadata": {},
     "output_type": "execute_result"
    }
   ],
   "source": [
    "z #confirmar predicion a partir de aplicacion de funcion polinomica"
   ]
  },
  {
   "cell_type": "code",
   "execution_count": 100,
   "id": "5953e3c6-0036-4ce0-9c0b-907536acab41",
   "metadata": {},
   "outputs": [],
   "source": [
    "y_pred_1 = modelo.predict([[1.9, 3.61]])"
   ]
  },
  {
   "cell_type": "code",
   "execution_count": 101,
   "id": "8330b106-10d5-4ce2-92df-9b1228780ade",
   "metadata": {},
   "outputs": [
    {
     "data": {
      "text/plain": [
       "array([[4.89016666]])"
      ]
     },
     "execution_count": 101,
     "metadata": {},
     "output_type": "execute_result"
    }
   ],
   "source": [
    "y_pred_1"
   ]
  },
  {
   "cell_type": "code",
   "execution_count": 102,
   "id": "400fdc44-0b90-428f-a848-d1db2e79b7a4",
   "metadata": {},
   "outputs": [
    {
     "data": {
      "text/plain": [
       "(100, 1)"
      ]
     },
     "execution_count": 102,
     "metadata": {},
     "output_type": "execute_result"
    }
   ],
   "source": [
    "y_pred.shape"
   ]
  },
  {
   "cell_type": "markdown",
   "id": "c33d31c8-cd2f-4a6a-a31b-0137ecf256d2",
   "metadata": {},
   "source": [
    "### Evaluar el modelo con MSE y R2_Score"
   ]
  },
  {
   "cell_type": "code",
   "execution_count": 103,
   "id": "e3e5b788-bfc2-470a-b0fe-c931be89eccc",
   "metadata": {},
   "outputs": [
    {
     "name": "stdout",
     "output_type": "stream",
     "text": [
      "MSE : 9.20\n",
      "R2_score : 0.96\n"
     ]
    }
   ],
   "source": [
    "mse = mean_squared_error(y_test, y_pred) # Mide que tan lejos estan las predicciones de los valores reales (Menos es mejor). Se usa para comparar dos modelos\n",
    "r2 = r2_score(y_test, y_pred) # Que tan bien el modelo explica la variación en los datos(Mas cercano a 1 es mejor).\n",
    "\n",
    "print(f\"MSE : {mse:.2f}\")\n",
    "print(f\"R2_score : {r2:.2f}\")"
   ]
  },
  {
   "cell_type": "markdown",
   "id": "01861ab2-8221-4f2c-82db-cbeddbb2e74a",
   "metadata": {},
   "source": [
    "# MSE:7.42 y R2: 0.96 con grado 2, MSE:7.47 y R2: 0.96 con grado 3\n",
    "### Comparando MSE grado 2 con MSE grado 3 se concluye que es suficiente o mejor utilizar grado 2 en el modelo\n",
    "- https://vitalflux-com.translate.goog/mean-square-error-r-squared-which-one-to-use/?_x_tr_sl=en&_x_tr_tl=es&_x_tr_hl=es&_x_tr_pto=wa"
   ]
  },
  {
   "cell_type": "markdown",
   "id": "6e314b83-30cb-4e51-bb47-01cfc410cb7b",
   "metadata": {},
   "source": [
    "# Cross validation\n"
   ]
  },
  {
   "cell_type": "code",
   "execution_count": 104,
   "id": "6494bd39-d2eb-463d-8ba4-9aeb83d1d71c",
   "metadata": {},
   "outputs": [
    {
     "name": "stdout",
     "output_type": "stream",
     "text": [
      "Cross validation scores para cada grupo (k): [0.96134419 0.96036007 0.95170933 0.95166863 0.9620756 ]\n",
      "R² Score promedio : 0.96\n"
     ]
    }
   ],
   "source": [
    "k = 5 \n",
    "kf = KFold(n_splits=k, shuffle=True, random_state=42)\n",
    "scores = cross_val_score(modelo, X_train_poli, y_train, cv=kf, scoring='r2')\n",
    "print(f'Cross validation scores para cada grupo (k): {scores}') # Nos da la valoración en cada subset de los datos\n",
    "print(f'R² Score promedio : {scores.mean():.2f}')\n",
    "                         "
   ]
  },
  {
   "cell_type": "code",
   "execution_count": null,
   "id": "8520d79a-0340-4c98-8cce-64763c951b4a",
   "metadata": {},
   "outputs": [],
   "source": [
    "import pickle\n",
    "filename = 'modelo_simple_polinomial_regresion.pkl'\n",
    "pickle.dump(modelo, open(filename, 'wb'))\n"
   ]
  },
  {
   "cell_type": "markdown",
   "id": "c562a373-9420-4b86-95b7-40f39c41ee6e",
   "metadata": {},
   "source": [
    "# Conclusiones\n",
    "1. Se ha visualizado que la transformación de variables independientes (features) a variables polinomiales ayuda a obtener predicciones mas acertadas.\n",
    "2. El uso de variables polinomiales de grado 2 es suficiente para resultados aceptables. Se obtuvo R2=0.96, es decir una excelente fiabilidad para las previsiones futuras. Es decir, en el 96% de los casos la variación de la variable dependiente es correctamente explicada por la variación de las variables independientes.\n",
    "3. Finalmente, se confirma lo aseverado al validar el modelo con 5 (k=5) grupos diferentes de datos de entrenamiento y pruebas."
   ]
  },
  {
   "cell_type": "code",
   "execution_count": null,
   "id": "7cbbe4f1-9914-479c-82aa-b35cc7c4b323",
   "metadata": {},
   "outputs": [],
   "source": [
    "\n",
    " "
   ]
  },
  {
   "cell_type": "code",
   "execution_count": null,
   "id": "0262b895",
   "metadata": {},
   "outputs": [],
   "source": []
  }
 ],
 "metadata": {
  "kernelspec": {
   "display_name": "Python [conda env:base] *",
   "language": "python",
   "name": "conda-base-py"
  },
  "language_info": {
   "codemirror_mode": {
    "name": "ipython",
    "version": 3
   },
   "file_extension": ".py",
   "mimetype": "text/x-python",
   "name": "python",
   "nbconvert_exporter": "python",
   "pygments_lexer": "ipython3",
   "version": "3.11.5"
  }
 },
 "nbformat": 4,
 "nbformat_minor": 5
}
